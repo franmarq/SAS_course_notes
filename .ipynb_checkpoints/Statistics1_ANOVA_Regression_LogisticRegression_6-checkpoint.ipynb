{
 "cells": [
  {
   "cell_type": "markdown",
   "metadata": {},
   "source": [
    "# Notes about the SAS's Course\n",
    "## Statistics 1: Introduction to ANOVA, Regression, and Logistic Regression\n",
    "\n",
    "This notes is based in the course materials, some codes and images are property . I made a Jupyter Notebook using JupiterLab with SAS University Edition. "
   ]
  },
  {
   "cell_type": "markdown",
   "metadata": {},
   "source": [
    "## 0. Script to setup the sesion\n",
    "Run this script in the begining the each session to access the data in the correct way. "
   ]
  },
  {
   "cell_type": "code",
   "execution_count": 1,
   "metadata": {},
   "outputs": [
    {
     "name": "stdout",
     "output_type": "stream",
     "text": [
      "SAS Connection established. Subprocess id is 3489\n",
      "\n"
     ]
    },
    {
     "data": {
      "text/html": [
       "<!DOCTYPE html PUBLIC \"-//W3C//DTD HTML 4.01//EN\"\n",
       "   \"http://www.w3.org/TR/html4/strict.dtd\">\n",
       "\n",
       "<html>\n",
       "<head>\n",
       "  <title></title>\n",
       "  <meta http-equiv=\"content-type\" content=\"text/html; charset=None\">\n",
       "  <style type=\"text/css\">\n",
       "td.linenos { background-color: #f0f0f0; padding-right: 10px; }\n",
       "span.lineno { background-color: #f0f0f0; padding: 0 5px 0 5px; }\n",
       "pre { line-height: 125%; }\n",
       "body .hll { background-color: #ffffcc }\n",
       "body  { background: #ffffff; }\n",
       "body .c { color: #0000FF } /* Comment */\n",
       "body .k { color: #ff0000; font-weight: bold } /* Keyword */\n",
       "body .n { color: #008000 } /* Name */\n",
       "body .ch { color: #0000FF } /* Comment.Hashbang */\n",
       "body .cm { color: #0000FF } /* Comment.Multiline */\n",
       "body .cp { color: #0000FF } /* Comment.Preproc */\n",
       "body .cpf { color: #0000FF } /* Comment.PreprocFile */\n",
       "body .c1 { color: #0000FF } /* Comment.Single */\n",
       "body .cs { color: #0000FF } /* Comment.Special */\n",
       "body .kc { color: #ff0000; font-weight: bold } /* Keyword.Constant */\n",
       "body .kd { color: #ff0000; font-weight: bold } /* Keyword.Declaration */\n",
       "body .kn { color: #ff0000; font-weight: bold } /* Keyword.Namespace */\n",
       "body .kp { color: #ff0000; font-weight: bold } /* Keyword.Pseudo */\n",
       "body .kr { color: #ff0000; font-weight: bold } /* Keyword.Reserved */\n",
       "body .kt { color: #ff0000; font-weight: bold } /* Keyword.Type */\n",
       "body .s { color: #111111 } /* Literal.String */\n",
       "body .na { color: #008000 } /* Name.Attribute */\n",
       "body .nb { color: #008000 } /* Name.Builtin */\n",
       "body .nc { color: #008000 } /* Name.Class */\n",
       "body .no { color: #008000 } /* Name.Constant */\n",
       "body .nd { color: #008000 } /* Name.Decorator */\n",
       "body .ni { color: #008000 } /* Name.Entity */\n",
       "body .ne { color: #008000 } /* Name.Exception */\n",
       "body .nf { color: #008000 } /* Name.Function */\n",
       "body .nl { color: #008000 } /* Name.Label */\n",
       "body .nn { color: #008000 } /* Name.Namespace */\n",
       "body .nx { color: #008000 } /* Name.Other */\n",
       "body .py { color: #008000 } /* Name.Property */\n",
       "body .nt { color: #008000 } /* Name.Tag */\n",
       "body .nv { color: #008000 } /* Name.Variable */\n",
       "body .sb { color: #111111 } /* Literal.String.Backtick */\n",
       "body .sc { color: #111111 } /* Literal.String.Char */\n",
       "body .sd { color: #111111 } /* Literal.String.Doc */\n",
       "body .s2 { color: #111111 } /* Literal.String.Double */\n",
       "body .se { color: #111111 } /* Literal.String.Escape */\n",
       "body .sh { color: #111111 } /* Literal.String.Heredoc */\n",
       "body .si { color: #111111 } /* Literal.String.Interpol */\n",
       "body .sx { color: #111111 } /* Literal.String.Other */\n",
       "body .sr { color: #111111 } /* Literal.String.Regex */\n",
       "body .s1 { color: #111111 } /* Literal.String.Single */\n",
       "body .ss { color: #111111 } /* Literal.String.Symbol */\n",
       "body .bp { color: #008000 } /* Name.Builtin.Pseudo */\n",
       "body .vc { color: #008000 } /* Name.Variable.Class */\n",
       "body .vg { color: #008000 } /* Name.Variable.Global */\n",
       "body .vi { color: #008000 } /* Name.Variable.Instance */\n",
       "\n",
       "  </style>\n",
       "</head>\n",
       "<body>\n",
       "<h2></h2>\n",
       "\n",
       "<div class=\"highlight\"><pre><span></span><span class=\"s\">34   ods listing close;ods html5 (id=saspy_internal) file=stdout options(bitmap_mode=&#39;inline&#39;) device=svg style=HTMLBlue; ods</span><br><span class=\"s\">34 ! graphics on / outputfmt=png;</span><br><span class=\"cm\">NOTE: Writing HTML5(SASPY_INTERNAL) Body file: STDOUT</span><br><span class=\"s\">35   </span><br><span class=\"s\">36   ODS select none;</span><br><span class=\"s\">37   </span><br><span class=\"s\">38   %let homefolder=/folders/myfolders/ECST142;</span><br><span class=\"s\">39   %let Cursofolder=/folders/myfolders/Statistics1_ANOVA_Regression_LogisticRegression/;</span><br><span class=\"s\">40   </span><br><span class=\"s\">41   libname STAT1 &quot;&amp;homefolder&quot;;</span><br><span class=\"cm\">NOTE: Libref STAT1 was successfully assigned as follows: </span><br><span class=\"cm\">      Engine:        V9 </span><br><span class=\"cm\">      Physical Name: /folders/myfolders/ECST142</span><br><span class=\"s\">42   libname Curso &quot;&amp;Cursofolder&quot;;</span><br><span class=\"cm\">NOTE: Libref CURSO was successfully assigned as follows: </span><br><span class=\"cm\">      Engine:        V9 </span><br><span class=\"cm\">      Physical Name: /folders/myfolders/Statistics1_ANOVA_Regression_LogisticRegression</span><br><span class=\"s\">43   </span><br><span class=\"s\">44   </span><br><span class=\"s\">45   </span><br><span class=\"s\">46   options fmtsearch=(stat1.myfmts);</span><br><span class=\"s\">47   </span><br><span class=\"s\">48   proc format library=stat1.myfmts;</span><br><span class=\"s\">49   run;</span><br><span class=\"cm\">NOTE: PROCEDURE FORMAT used (Total process time):</span><br><span class=\"cm\">      real time           0.06 seconds</span><br><span class=\"cm\">      cpu time            0.06 seconds</span><br><span class=\"cm\">      </span><br><span class=\"s\">50   </span><br><span class=\"s\">51   /* create macro variables to hold the names of the interval and */</span><br><span class=\"s\">52   /* categorical variables used in the demo and practice programs */</span><br><span class=\"s\">53   </span><br><span class=\"s\">54   %let interval=Gr_Liv_Area Basement_Area Garage_Area Deck_Porch_Area</span><br><span class=\"s\">55            Lot_Area Age_Sold Bedroom_AbvGr Total_Bathroom;</span><br><span class=\"s\">56   </span><br><span class=\"s\">57   %let categorical=House_Style2 Overall_Qual2 Overall_Cond2 Fireplaces</span><br><span class=\"s\">58            Season_Sold Garage_Type_2 Foundation_2 Heating_QC</span><br><span class=\"s\">59            Masonry_Veneer Lot_Shape_2 Central_Air;</span><br><span class=\"s\">60   </span><br><span class=\"s\">61   ods html5 (id=saspy_internal) close;ods listing;</span><br><br><span class=\"s\">62   </span><br></pre></div>\n",
       "</body>\n",
       "</html>\n"
      ],
      "text/plain": [
       "<IPython.core.display.HTML object>"
      ]
     },
     "execution_count": 1,
     "metadata": {},
     "output_type": "execute_result"
    }
   ],
   "source": [
    "ODS select none;\n",
    "\n",
    "%let homefolder=/folders/myfolders/ECST142;\n",
    "%let Cursofolder=/folders/myfolders/Statistics1_ANOVA_Regression_LogisticRegression/;\n",
    "\n",
    "libname STAT1 \"&homefolder\";\n",
    "libname Curso \"&Cursofolder\";\n",
    "\n",
    "\n",
    "\n",
    "options fmtsearch=(stat1.myfmts);\n",
    "\n",
    "proc format library=stat1.myfmts;\n",
    "run;\n",
    "\n",
    "/* create macro variables to hold the names of the interval and */\n",
    "/* categorical variables used in the demo and practice programs */\n",
    "\n",
    "%let interval=Gr_Liv_Area Basement_Area Garage_Area Deck_Porch_Area \n",
    "         Lot_Area Age_Sold Bedroom_AbvGr Total_Bathroom;\n",
    "\n",
    "%let categorical=House_Style2 Overall_Qual2 Overall_Cond2 Fireplaces \n",
    "         Season_Sold Garage_Type_2 Foundation_2 Heating_QC \n",
    "         Masonry_Veneer Lot_Shape_2 Central_Air;"
   ]
  },
  {
   "cell_type": "markdown",
   "metadata": {},
   "source": [
    "## 6: Model Building for Scoring and Prediction"
   ]
  },
  {
   "cell_type": "markdown",
   "metadata": {},
   "source": [
    "* explaining the relationship and predict future values of a response variable.\n",
    "* how to transition from inferential statistics to predictive modeling. \n",
    "* how to assess models using honest assessment.\n",
    "* After we choose the best performing model, we'll discuss ways to deploy the model to predict new data.\n",
    "\n",
    "### Introduction to Predictive Modeling\n",
    "...\n",
    "\n",
    "#### Predictive Modeling Terminology\n",
    "* The process begins with partitioning a data set into separate training and validation data sets.\n",
    "* The model is built using the training data and then assessed using the validation data.\n",
    "* After a best model is chosen, the model is deployed to make predictions on new data using a process called scoring.\n",
    "* A predictive model consists of either a formula or rules.\n",
    "* The predictive regression models, are parametric, have formulas. \n",
    "* Predictive models based on nonparametric models, decision trees and random forests, based on a sequence of decisions, or rules, based on the values of the inputs.\n",
    "\n",
    "#### Model Complexity\n",
    "\n",
    "* The important concept is that there isn't one perfect model. There's always a balance between overfitting and underfitting.\n",
    "\n",
    "#### Building a Predictive Model\n",
    "\n",
    "* You start by fitting a variety of models, and then you assess their performance and select the best model. \n",
    "* **The key is to not overfit the training data set.**\n",
    "* How can you select the best model?: Using honest assessment, you partition or split the available data into a data set for training, and one for validation, and sometimes a third data set for testing. All partitions contain the predictors and the response.\n",
    "* The **training data** set is used to fit a variety of different models.\n",
    "* The **validation data** set is a holdout sample that's used to compare model performance and select the best performing model. Using a holdout sample is a way of assessing how well the models generalize to new data. \n",
    "* the **test data** set is used to give a final honest estimate of generalization for the chosen model.In practice, many analysts see no need for a final assessment. Instead, the model assessment measured on the validation data is reported as an upper bound on the performance that is expected when the model is deployed.\n",
    "* Common partitions include 70% training and 30% validation."
   ]
  },
  {
   "cell_type": "code",
   "execution_count": null,
   "metadata": {},
   "outputs": [],
   "source": []
  }
 ],
 "metadata": {
  "kernelspec": {
   "display_name": "SAS",
   "language": "sas",
   "name": "sas"
  },
  "language_info": {
   "codemirror_mode": "sas",
   "file_extension": ".sas",
   "mimetype": "text/x-sas",
   "name": "sas"
  }
 },
 "nbformat": 4,
 "nbformat_minor": 2
}
