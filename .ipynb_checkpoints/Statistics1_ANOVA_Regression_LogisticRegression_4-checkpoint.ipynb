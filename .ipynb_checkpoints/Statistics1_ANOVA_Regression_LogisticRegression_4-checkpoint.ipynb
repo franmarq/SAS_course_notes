{
 "cells": [
  {
   "cell_type": "markdown",
   "metadata": {},
   "source": [
    "# Notes about the SAS's Course\n",
    "## Statistics 1: Introduction to ANOVA, Regression, and Logistic Regression\n",
    "\n",
    "This notes is based in the course materials, some codes and images are property . I made a Jupyter Notebook using JupiterLab with SAS University Edition. "
   ]
  },
  {
   "cell_type": "markdown",
   "metadata": {},
   "source": [
    "## 0. Script to setup the sesion\n",
    "Run this script in the begining the each session to access the data in the correct way. "
   ]
  },
  {
   "cell_type": "code",
   "execution_count": 1,
   "metadata": {},
   "outputs": [
    {
     "name": "stdout",
     "output_type": "stream",
     "text": [
      "SAS Connection established. Subprocess id is 1982\n",
      "\n"
     ]
    },
    {
     "data": {
      "text/html": [
       "<!DOCTYPE html PUBLIC \"-//W3C//DTD HTML 4.01//EN\"\n",
       "   \"http://www.w3.org/TR/html4/strict.dtd\">\n",
       "\n",
       "<html>\n",
       "<head>\n",
       "  <title></title>\n",
       "  <meta http-equiv=\"content-type\" content=\"text/html; charset=None\">\n",
       "  <style type=\"text/css\">\n",
       "td.linenos { background-color: #f0f0f0; padding-right: 10px; }\n",
       "span.lineno { background-color: #f0f0f0; padding: 0 5px 0 5px; }\n",
       "pre { line-height: 125%; }\n",
       "body .hll { background-color: #ffffcc }\n",
       "body  { background: #ffffff; }\n",
       "body .c { color: #0000FF } /* Comment */\n",
       "body .k { color: #ff0000; font-weight: bold } /* Keyword */\n",
       "body .n { color: #008000 } /* Name */\n",
       "body .ch { color: #0000FF } /* Comment.Hashbang */\n",
       "body .cm { color: #0000FF } /* Comment.Multiline */\n",
       "body .cp { color: #0000FF } /* Comment.Preproc */\n",
       "body .cpf { color: #0000FF } /* Comment.PreprocFile */\n",
       "body .c1 { color: #0000FF } /* Comment.Single */\n",
       "body .cs { color: #0000FF } /* Comment.Special */\n",
       "body .kc { color: #ff0000; font-weight: bold } /* Keyword.Constant */\n",
       "body .kd { color: #ff0000; font-weight: bold } /* Keyword.Declaration */\n",
       "body .kn { color: #ff0000; font-weight: bold } /* Keyword.Namespace */\n",
       "body .kp { color: #ff0000; font-weight: bold } /* Keyword.Pseudo */\n",
       "body .kr { color: #ff0000; font-weight: bold } /* Keyword.Reserved */\n",
       "body .kt { color: #ff0000; font-weight: bold } /* Keyword.Type */\n",
       "body .s { color: #111111 } /* Literal.String */\n",
       "body .na { color: #008000 } /* Name.Attribute */\n",
       "body .nb { color: #008000 } /* Name.Builtin */\n",
       "body .nc { color: #008000 } /* Name.Class */\n",
       "body .no { color: #008000 } /* Name.Constant */\n",
       "body .nd { color: #008000 } /* Name.Decorator */\n",
       "body .ni { color: #008000 } /* Name.Entity */\n",
       "body .ne { color: #008000 } /* Name.Exception */\n",
       "body .nf { color: #008000 } /* Name.Function */\n",
       "body .nl { color: #008000 } /* Name.Label */\n",
       "body .nn { color: #008000 } /* Name.Namespace */\n",
       "body .nx { color: #008000 } /* Name.Other */\n",
       "body .py { color: #008000 } /* Name.Property */\n",
       "body .nt { color: #008000 } /* Name.Tag */\n",
       "body .nv { color: #008000 } /* Name.Variable */\n",
       "body .sb { color: #111111 } /* Literal.String.Backtick */\n",
       "body .sc { color: #111111 } /* Literal.String.Char */\n",
       "body .sd { color: #111111 } /* Literal.String.Doc */\n",
       "body .s2 { color: #111111 } /* Literal.String.Double */\n",
       "body .se { color: #111111 } /* Literal.String.Escape */\n",
       "body .sh { color: #111111 } /* Literal.String.Heredoc */\n",
       "body .si { color: #111111 } /* Literal.String.Interpol */\n",
       "body .sx { color: #111111 } /* Literal.String.Other */\n",
       "body .sr { color: #111111 } /* Literal.String.Regex */\n",
       "body .s1 { color: #111111 } /* Literal.String.Single */\n",
       "body .ss { color: #111111 } /* Literal.String.Symbol */\n",
       "body .bp { color: #008000 } /* Name.Builtin.Pseudo */\n",
       "body .vc { color: #008000 } /* Name.Variable.Class */\n",
       "body .vg { color: #008000 } /* Name.Variable.Global */\n",
       "body .vi { color: #008000 } /* Name.Variable.Instance */\n",
       "\n",
       "  </style>\n",
       "</head>\n",
       "<body>\n",
       "<h2></h2>\n",
       "\n",
       "<div class=\"highlight\"><pre><span></span><span class=\"s\">34   ods listing close;ods html5 (id=saspy_internal) file=stdout options(bitmap_mode=&#39;inline&#39;) device=svg style=HTMLBlue; ods</span><br><span class=\"s\">34 ! graphics on / outputfmt=png;</span><br><span class=\"cm\">NOTE: Writing HTML5(SASPY_INTERNAL) Body file: STDOUT</span><br><span class=\"s\">35   </span><br><span class=\"s\">36   %let homefolder=/folders/myfolders/ECST142;</span><br><span class=\"s\">37   %let Cursofolder=/folders/myfolders/Statistics1_ANOVA_Regression_LogisticRegression/;</span><br><span class=\"s\">38   </span><br><span class=\"s\">39   libname STAT1 &quot;&amp;homefolder&quot;;</span><br><span class=\"cm\">NOTE: Libref STAT1 was successfully assigned as follows: </span><br><span class=\"cm\">      Engine:        V9 </span><br><span class=\"cm\">      Physical Name: /folders/myfolders/ECST142</span><br><span class=\"s\">40   libname Curso &quot;&amp;Cursofolder&quot;;</span><br><span class=\"cm\">NOTE: Libref CURSO was successfully assigned as follows: </span><br><span class=\"cm\">      Engine:        V9 </span><br><span class=\"cm\">      Physical Name: /folders/myfolders/Statistics1_ANOVA_Regression_LogisticRegression</span><br><span class=\"s\">41   </span><br><span class=\"s\">42   </span><br><span class=\"s\">43   </span><br><span class=\"s\">44   options fmtsearch=(stat1.myfmts);</span><br><span class=\"s\">45   </span><br><span class=\"s\">46   proc format library=stat1.myfmts;</span><br><span class=\"s\">47   run;</span><br><span class=\"cm\">NOTE: PROCEDURE FORMAT used (Total process time):</span><br><span class=\"cm\">      real time           0.02 seconds</span><br><span class=\"cm\">      cpu time            0.04 seconds</span><br><span class=\"cm\">      </span><br><span class=\"s\">48   </span><br><span class=\"s\">49   /* create macro variables to hold the names of the interval and */</span><br><span class=\"s\">50   /* categorical variables used in the demo and practice programs */</span><br><span class=\"s\">51   </span><br><span class=\"s\">52   %let interval=Gr_Liv_Area Basement_Area Garage_Area Deck_Porch_Area</span><br><span class=\"s\">53            Lot_Area Age_Sold Bedroom_AbvGr Total_Bathroom;</span><br><span class=\"s\">54   </span><br><span class=\"s\">55   %let categorical=House_Style2 Overall_Qual2 Overall_Cond2 Fireplaces</span><br><span class=\"s\">56            Season_Sold Garage_Type_2 Foundation_2 Heating_QC</span><br><span class=\"s\">57            Masonry_Veneer Lot_Shape_2 Central_Air;</span><br><span class=\"s\">58   </span><br><span class=\"s\">59   ods html5 (id=saspy_internal) close;ods listing;</span><br><br><span class=\"s\">60   </span><br></pre></div>\n",
       "</body>\n",
       "</html>\n"
      ],
      "text/plain": [
       "<IPython.core.display.HTML object>"
      ]
     },
     "execution_count": 1,
     "metadata": {},
     "output_type": "execute_result"
    }
   ],
   "source": [
    "%let homefolder=/folders/myfolders/ECST142;\n",
    "%let Cursofolder=/folders/myfolders/Statistics1_ANOVA_Regression_LogisticRegression/;\n",
    "\n",
    "libname STAT1 \"&homefolder\";\n",
    "libname Curso \"&Cursofolder\";\n",
    "\n",
    "\n",
    "\n",
    "options fmtsearch=(stat1.myfmts);\n",
    "\n",
    "proc format library=stat1.myfmts;\n",
    "run;\n",
    "\n",
    "/* create macro variables to hold the names of the interval and */\n",
    "/* categorical variables used in the demo and practice programs */\n",
    "\n",
    "%let interval=Gr_Liv_Area Basement_Area Garage_Area Deck_Porch_Area \n",
    "         Lot_Area Age_Sold Bedroom_AbvGr Total_Bathroom;\n",
    "\n",
    "%let categorical=House_Style2 Overall_Qual2 Overall_Cond2 Fireplaces \n",
    "         Season_Sold Garage_Type_2 Foundation_2 Heating_QC \n",
    "         Masonry_Veneer Lot_Shape_2 Central_Air;"
   ]
  },
  {
   "cell_type": "markdown",
   "metadata": {},
   "source": [
    "#### Model Building and Effect Selection\n"
   ]
  },
  {
   "cell_type": "code",
   "execution_count": null,
   "metadata": {},
   "outputs": [],
   "source": []
  }
 ],
 "metadata": {
  "kernelspec": {
   "display_name": "SAS",
   "language": "sas",
   "name": "sas"
  },
  "language_info": {
   "codemirror_mode": "sas",
   "file_extension": ".sas",
   "mimetype": "text/x-sas",
   "name": "sas"
  }
 },
 "nbformat": 4,
 "nbformat_minor": 2
}
